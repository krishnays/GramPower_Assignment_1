{
 "cells": [
  {
   "cell_type": "code",
   "execution_count": 3,
   "id": "9d8da9e8",
   "metadata": {},
   "outputs": [
    {
     "name": "stdout",
     "output_type": "stream",
     "text": [
      "Requirement already satisfied: boto3 in c:\\users\\krishna palawat\\appdata\\local\\programs\\python\\python39\\lib\\site-packages (1.18.18)\n",
      "Requirement already satisfied: s3transfer<0.6.0,>=0.5.0 in c:\\users\\krishna palawat\\appdata\\local\\programs\\python\\python39\\lib\\site-packages (from boto3) (0.5.0)\n",
      "Requirement already satisfied: botocore<1.22.0,>=1.21.18 in c:\\users\\krishna palawat\\appdata\\local\\programs\\python\\python39\\lib\\site-packages (from boto3) (1.21.18)\n",
      "Requirement already satisfied: jmespath<1.0.0,>=0.7.1 in c:\\users\\krishna palawat\\appdata\\local\\programs\\python\\python39\\lib\\site-packages (from boto3) (0.10.0)\n",
      "Requirement already satisfied: urllib3<1.27,>=1.25.4 in c:\\users\\krishna palawat\\appdata\\local\\programs\\python\\python39\\lib\\site-packages (from botocore<1.22.0,>=1.21.18->boto3) (1.26.6)\n",
      "Requirement already satisfied: python-dateutil<3.0.0,>=2.1 in c:\\users\\krishna palawat\\appdata\\local\\programs\\python\\python39\\lib\\site-packages (from botocore<1.22.0,>=1.21.18->boto3) (2.8.2)\n",
      "Requirement already satisfied: six>=1.5 in c:\\users\\krishna palawat\\appdata\\local\\programs\\python\\python39\\lib\\site-packages (from python-dateutil<3.0.0,>=2.1->botocore<1.22.0,>=1.21.18->boto3) (1.16.0)\n"
     ]
    }
   ],
   "source": [
    "!pip install boto3\n"
   ]
  },
  {
   "cell_type": "code",
   "execution_count": null,
   "id": "fb4c5537",
   "metadata": {},
   "outputs": [],
   "source": [
    "import boto3\n",
    "import pandas as pd\n",
    "\n",
    "s3 = boto3.client('s3')\n",
    "\n",
    "s3 = boto3.resource(\n",
    "    service_name='s3',\n",
    "    region_name='us-east-2',\n",
    "    aws_access_key_id='user id',\n",
    "    aws_secret_access_key='secret key'\n",
    ")\n",
    "\n",
    "# Print out bucket names\n",
    "for bucket in s3.buckets.all():\n",
    "    print(bucket.name)\n",
    "\n",
    "!pip install s3fs\n",
    "\n",
    "import os\n",
    "os.environ[\"AWS_DEFAULT_REGION\"] = 'us-east-2'\n",
    "os.environ[\"AWS_ACCESS_KEY_ID\"] = ''\n",
    "os.environ[\"AWS_SECRET_ACCESS_KEY\"] = ''\n",
    "\n",
    "# Upload files to S3 bucket\n",
    "s3.Object('kbucket1o11','abcd.mp4').upload_file(Filename='C:\\\\Users\\\\krishnapc\\\\Desktop\\\\abcd.mp4', key ='abcd.mp4')\n",
    "\n",
    "# Download file and read from disc\n",
    "s3.Bucket('kbucket1o11').download_file(Key='abcd.mp4', Filename='abcd.mp4')\n",
    "\n"
   ]
  }
 ],
 "metadata": {
  "kernelspec": {
   "display_name": "Python 3 (ipykernel)",
   "language": "python",
   "name": "python3"
  },
  "language_info": {
   "codemirror_mode": {
    "name": "ipython",
    "version": 3
   },
   "file_extension": ".py",
   "mimetype": "text/x-python",
   "name": "python",
   "nbconvert_exporter": "python",
   "pygments_lexer": "ipython3",
   "version": "3.9.6"
  }
 },
 "nbformat": 4,
 "nbformat_minor": 5
}
